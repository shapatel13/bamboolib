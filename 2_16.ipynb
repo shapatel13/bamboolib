{
  "nbformat": 4,
  "nbformat_minor": 0,
  "metadata": {
    "colab": {
      "name": "2-16.ipynb",
      "provenance": [],
      "collapsed_sections": [],
      "machine_shape": "hm",
      "include_colab_link": true
    },
    "kernelspec": {
      "name": "python3",
      "display_name": "Python 3"
    },
    "accelerator": "GPU"
  },
  "cells": [
    {
      "cell_type": "markdown",
      "metadata": {
        "id": "view-in-github",
        "colab_type": "text"
      },
      "source": [
        "<a href=\"https://colab.research.google.com/github/shapatel13/bamboolib/blob/master/2_16.ipynb\" target=\"_parent\"><img src=\"https://colab.research.google.com/assets/colab-badge.svg\" alt=\"Open In Colab\"/></a>"
      ]
    },
    {
      "cell_type": "code",
      "metadata": {
        "id": "uc0bkxoO0vEt",
        "colab_type": "code",
        "outputId": "aa980ac4-437f-49c8-ed18-75996770c378",
        "colab": {
          "base_uri": "https://localhost:8080/",
          "height": 124
        }
      },
      "source": [
        "from google.colab import drive\n",
        "drive.mount('/content/drive')"
      ],
      "execution_count": 1,
      "outputs": [
        {
          "output_type": "stream",
          "text": [
            "Go to this URL in a browser: https://accounts.google.com/o/oauth2/auth?client_id=947318989803-6bn6qk8qdgf4n4g3pfee6491hc0brc4i.apps.googleusercontent.com&redirect_uri=urn%3aietf%3awg%3aoauth%3a2.0%3aoob&response_type=code&scope=email%20https%3a%2f%2fwww.googleapis.com%2fauth%2fdocs.test%20https%3a%2f%2fwww.googleapis.com%2fauth%2fdrive%20https%3a%2f%2fwww.googleapis.com%2fauth%2fdrive.photos.readonly%20https%3a%2f%2fwww.googleapis.com%2fauth%2fpeopleapi.readonly\n",
            "\n",
            "Enter your authorization code:\n",
            "··········\n",
            "Mounted at /content/drive\n"
          ],
          "name": "stdout"
        }
      ]
    },
    {
      "cell_type": "code",
      "metadata": {
        "id": "jujyqGFwgJO9",
        "colab_type": "code",
        "outputId": "df611583-9684-4a20-c020-cfb6757d398f",
        "colab": {
          "base_uri": "https://localhost:8080/",
          "height": 72
        }
      },
      "source": [
        "from sklearn.datasets import load_iris\n",
        "from sklearn.model_selection import train_test_split\n",
        "from sklearn.preprocessing import StandardScaler\n",
        "from sklearn.decomposition import PCA\n",
        "from sklearn.pipeline import Pipeline\n",
        "from sklearn.model_selection import GridSearchCV\n",
        "from sklearn.metrics import accuracy_score\n",
        "from sklearn.externals import joblib\n",
        "from sklearn.linear_model import LogisticRegression\n",
        "from sklearn.ensemble import RandomForestClassifier\n",
        "from sklearn import svm"
      ],
      "execution_count": 2,
      "outputs": [
        {
          "output_type": "stream",
          "text": [
            "/usr/local/lib/python3.6/dist-packages/sklearn/externals/joblib/__init__.py:15: FutureWarning: sklearn.externals.joblib is deprecated in 0.21 and will be removed in 0.23. Please import this functionality directly from joblib, which can be installed with: pip install joblib. If this warning is raised when loading pickled models, you may need to re-serialize those models with scikit-learn 0.21+.\n",
            "  warnings.warn(msg, category=FutureWarning)\n"
          ],
          "name": "stderr"
        }
      ]
    },
    {
      "cell_type": "code",
      "metadata": {
        "id": "sEIqpR-H00AN",
        "colab_type": "code",
        "outputId": "7a9d98e3-0257-42d0-87f2-f20d78be065e",
        "colab": {
          "base_uri": "https://localhost:8080/",
          "height": 107
        }
      },
      "source": [
        "import numpy as np\n",
        "import pandas as pd\n",
        "from sklearn.experimental import enable_iterative_imputer\n",
        "from sklearn.impute import IterativeImputer\n",
        "import matplotlib.pyplot as plt\n",
        "import seaborn as sns\n",
        "from sklearn.preprocessing import StandardScaler\n",
        "from sklearn.feature_selection import mutual_info_classif\n",
        "from sklearn.model_selection import KFold, GridSearchCV\n",
        "from imblearn.over_sampling import SMOTE\n",
        "import xgboost\n",
        "from sklearn.linear_model import LogisticRegression\n",
        "from sklearn.metrics import roc_auc_score, make_scorer\n",
        "from sklearn.metrics import roc_auc_score\n",
        "from sklearn.model_selection import StratifiedKFold\n",
        "from xgboost import XGBClassifier\n",
        "from sklearn.ensemble import RandomForestClassifier\n",
        "from sklearn.model_selection import RandomizedSearchCV"
      ],
      "execution_count": 3,
      "outputs": [
        {
          "output_type": "stream",
          "text": [
            "/usr/local/lib/python3.6/dist-packages/sklearn/externals/six.py:31: FutureWarning: The module is deprecated in version 0.21 and will be removed in version 0.23 since we've dropped support for Python 2.7. Please rely on the official version of six (https://pypi.org/project/six/).\n",
            "  \"(https://pypi.org/project/six/).\", FutureWarning)\n",
            "/usr/local/lib/python3.6/dist-packages/sklearn/utils/deprecation.py:144: FutureWarning: The sklearn.neighbors.base module is  deprecated in version 0.22 and will be removed in version 0.24. The corresponding classes / functions should instead be imported from sklearn.neighbors. Anything that cannot be imported from sklearn.neighbors is now part of the private API.\n",
            "  warnings.warn(message, FutureWarning)\n"
          ],
          "name": "stderr"
        }
      ]
    },
    {
      "cell_type": "code",
      "metadata": {
        "id": "QtFwFFKh10T3",
        "colab_type": "code",
        "colab": {}
      },
      "source": [
        "df= pd.read_csv('/content/drive/My Drive/nosepsispf1.csv')"
      ],
      "execution_count": 0,
      "outputs": []
    },
    {
      "cell_type": "markdown",
      "metadata": {
        "id": "HI5sUdoSTG4a",
        "colab_type": "text"
      },
      "source": [
        "# New Section"
      ]
    },
    {
      "cell_type": "markdown",
      "metadata": {
        "id": "AfCU-xKSTHlW",
        "colab_type": "text"
      },
      "source": [
        "# New Section"
      ]
    },
    {
      "cell_type": "code",
      "metadata": {
        "id": "T8nlQvxw2cMl",
        "colab_type": "code",
        "outputId": "c08c2543-ce14-45d7-829a-368d9896fdc5",
        "colab": {
          "base_uri": "https://localhost:8080/",
          "height": 693
        }
      },
      "source": [
        "for col in df.columns:\n",
        "    pct_missing = np.mean(df[col].isnull())\n",
        "    print('{} - {}%'.format(col, round(pct_missing*100)))"
      ],
      "execution_count": 5,
      "outputs": [
        {
          "output_type": "stream",
          "text": [
            "patientunitstayid - 0.0%\n",
            "ANIONGAP_min - 23.0%\n",
            "ANIONGAP_max - 23.0%\n",
            "ALBUMIN_min - 31.0%\n",
            "ALBUMIN_max - 31.0%\n",
            "BICARBONATE_min - 9.0%\n",
            "BICARBONATE_max - 9.0%\n",
            "CREATININE_max - 3.0%\n",
            "CHLORIDE_min - 4.0%\n",
            "CHLORIDE_max - 4.0%\n",
            "GLUCOSE_min - 4.0%\n",
            "GLUCOSE_max - 4.0%\n",
            "HEMATOCRIT_min - 4.0%\n",
            "LACTATE_min - 62.0%\n",
            "LACTATE_max - 62.0%\n",
            "PLATELET_min - 5.0%\n",
            "INR_max - 38.0%\n",
            "PT_max - 40.0%\n",
            "SODIUM_min - 3.0%\n",
            "SODIUM_max - 3.0%\n",
            "BILIRUBIN_max - 34.0%\n",
            "BUN_min - 4.0%\n",
            "BUN_max - 4.0%\n",
            "PLATELET_max - 5.0%\n",
            "WBC_min - 4.0%\n",
            "WBC_max - 4.0%\n",
            "gender - 0.0%\n",
            "age - 4.0%\n",
            "day1verbal - 0.0%\n",
            "day1motor - 0.0%\n",
            "day1eyes - 0.0%\n",
            "admitdiagnosis - 1.0%\n",
            "aids - 0.0%\n",
            "hepaticfailure - 0.0%\n",
            "lymphoma - 0.0%\n",
            "metastaticcancer - 0.0%\n",
            "leukemia - 0.0%\n",
            "diabetes - 0.0%\n",
            "actualicumortality - 0.0%\n"
          ],
          "name": "stdout"
        }
      ]
    },
    {
      "cell_type": "code",
      "metadata": {
        "id": "RDREy4Qq2EXu",
        "colab_type": "code",
        "outputId": "f5c0b3b8-1b20-457f-bacd-bb8d35d072b7",
        "colab": {
          "base_uri": "https://localhost:8080/",
          "height": 176
        }
      },
      "source": [
        "pip install impyute"
      ],
      "execution_count": 0,
      "outputs": [
        {
          "output_type": "stream",
          "text": [
            "Collecting impyute\n",
            "  Downloading https://files.pythonhosted.org/packages/37/28/86829f67c9affb847facaab94687761d3555539ec675f7577778c5b2680a/impyute-0.0.8-py2.py3-none-any.whl\n",
            "Requirement already satisfied: numpy in /usr/local/lib/python3.6/dist-packages (from impyute) (1.17.5)\n",
            "Requirement already satisfied: scikit-learn in /usr/local/lib/python3.6/dist-packages (from impyute) (0.22.1)\n",
            "Requirement already satisfied: scipy in /usr/local/lib/python3.6/dist-packages (from impyute) (1.4.1)\n",
            "Requirement already satisfied: joblib>=0.11 in /usr/local/lib/python3.6/dist-packages (from scikit-learn->impyute) (0.14.1)\n",
            "Installing collected packages: impyute\n",
            "Successfully installed impyute-0.0.8\n"
          ],
          "name": "stdout"
        }
      ]
    },
    {
      "cell_type": "code",
      "metadata": {
        "id": "XotIj2S7HkGw",
        "colab_type": "code",
        "colab": {}
      },
      "source": [
        "df=df[df[\"day1eyes\"] > 0]\n",
        "df=df[df[\"day1motor\"] > 0]\n",
        "df=df[df[\"day1verbal\"] > 0]\n",
        "df=df[df[\"age\"] > 17]"
      ],
      "execution_count": 0,
      "outputs": []
    },
    {
      "cell_type": "code",
      "metadata": {
        "id": "DoTuSS462meB",
        "colab_type": "code",
        "colab": {}
      },
      "source": [
        "df=df.drop(columns='patientunitstayid')"
      ],
      "execution_count": 0,
      "outputs": []
    },
    {
      "cell_type": "code",
      "metadata": {
        "id": "iuNWk8fz2nkC",
        "colab_type": "code",
        "colab": {}
      },
      "source": [
        "df=df.drop(columns='admitdiagnosis')"
      ],
      "execution_count": 0,
      "outputs": []
    },
    {
      "cell_type": "code",
      "metadata": {
        "id": "KxI2xzs_dx-3",
        "colab_type": "code",
        "outputId": "ab5ddce9-0833-4b49-f097-f8d3775c5f47",
        "colab": {
          "base_uri": "https://localhost:8080/",
          "height": 659
        }
      },
      "source": [
        "for col in df.columns:\n",
        "    pct_missing = np.mean(df[col].isnull())\n",
        "    print('{} - {}%'.format(col, round(pct_missing*100)))"
      ],
      "execution_count": 9,
      "outputs": [
        {
          "output_type": "stream",
          "text": [
            "ANIONGAP_min - 23.0%\n",
            "ANIONGAP_max - 23.0%\n",
            "ALBUMIN_min - 31.0%\n",
            "ALBUMIN_max - 31.0%\n",
            "BICARBONATE_min - 8.0%\n",
            "BICARBONATE_max - 8.0%\n",
            "CREATININE_max - 3.0%\n",
            "CHLORIDE_min - 4.0%\n",
            "CHLORIDE_max - 4.0%\n",
            "GLUCOSE_min - 4.0%\n",
            "GLUCOSE_max - 4.0%\n",
            "HEMATOCRIT_min - 4.0%\n",
            "LACTATE_min - 63.0%\n",
            "LACTATE_max - 63.0%\n",
            "PLATELET_min - 5.0%\n",
            "INR_max - 38.0%\n",
            "PT_max - 40.0%\n",
            "SODIUM_min - 3.0%\n",
            "SODIUM_max - 3.0%\n",
            "BILIRUBIN_max - 34.0%\n",
            "BUN_min - 4.0%\n",
            "BUN_max - 4.0%\n",
            "PLATELET_max - 5.0%\n",
            "WBC_min - 4.0%\n",
            "WBC_max - 4.0%\n",
            "gender - 0.0%\n",
            "age - 0.0%\n",
            "day1verbal - 0.0%\n",
            "day1motor - 0.0%\n",
            "day1eyes - 0.0%\n",
            "aids - 0.0%\n",
            "hepaticfailure - 0.0%\n",
            "lymphoma - 0.0%\n",
            "metastaticcancer - 0.0%\n",
            "leukemia - 0.0%\n",
            "diabetes - 0.0%\n",
            "actualicumortality - 0.0%\n"
          ],
          "name": "stdout"
        }
      ]
    },
    {
      "cell_type": "code",
      "metadata": {
        "id": "iGaKLleS2y_n",
        "colab_type": "code",
        "colab": {}
      },
      "source": [
        "from sklearn.compose import ColumnTransformer\n",
        "from sklearn.datasets import fetch_openml\n",
        "from sklearn.pipeline import Pipeline\n",
        "from sklearn.impute import SimpleImputer\n",
        "from sklearn.preprocessing import StandardScaler, OneHotEncoder\n",
        "from sklearn.linear_model import LogisticRegression\n",
        "from sklearn.model_selection import train_test_split, GridSearchCV\n",
        "from sklearn.model_selection import RandomizedSearchCV"
      ],
      "execution_count": 0,
      "outputs": []
    },
    {
      "cell_type": "code",
      "metadata": {
        "id": "EFUOp7AyMQ9n",
        "colab_type": "code",
        "colab": {}
      },
      "source": [
        "from sklearn.impute import SimpleImputer\n",
        "from sklearn.impute import IterativeImputer\n",
        "from sklearn.linear_model import BayesianRidge\n",
        "from sklearn.tree import DecisionTreeRegressor\n",
        "from sklearn.ensemble import ExtraTreesRegressor\n",
        "from sklearn.neighbors import KNeighborsRegressor\n",
        "from sklearn.pipeline import make_pipeline"
      ],
      "execution_count": 0,
      "outputs": []
    },
    {
      "cell_type": "code",
      "metadata": {
        "id": "m8ZZNZtOlzOq",
        "colab_type": "code",
        "colab": {
          "base_uri": "https://localhost:8080/",
          "height": 745
        },
        "outputId": "8867a489-1bb3-4c30-be06-414d10b7af2a"
      },
      "source": [
        "df.info()"
      ],
      "execution_count": 31,
      "outputs": [
        {
          "output_type": "stream",
          "text": [
            "<class 'pandas.core.frame.DataFrame'>\n",
            "Int64Index: 140738 entries, 0 to 148531\n",
            "Data columns (total 37 columns):\n",
            "ANIONGAP_min          108183 non-null float64\n",
            "ANIONGAP_max          108183 non-null float64\n",
            "ALBUMIN_min           97579 non-null float64\n",
            "ALBUMIN_max           97579 non-null float64\n",
            "BICARBONATE_min       128781 non-null float64\n",
            "BICARBONATE_max       128781 non-null float64\n",
            "CREATININE_max        135972 non-null float64\n",
            "CHLORIDE_min          135151 non-null float64\n",
            "CHLORIDE_max          135151 non-null float64\n",
            "GLUCOSE_min           135327 non-null float64\n",
            "GLUCOSE_max           135327 non-null float64\n",
            "HEMATOCRIT_min        135619 non-null float64\n",
            "LACTATE_min           52671 non-null float64\n",
            "LACTATE_max           52671 non-null float64\n",
            "PLATELET_min          133385 non-null float64\n",
            "INR_max               87360 non-null float64\n",
            "PT_max                84821 non-null float64\n",
            "SODIUM_min            135943 non-null float64\n",
            "SODIUM_max            135943 non-null float64\n",
            "BILIRUBIN_max         92540 non-null float64\n",
            "BUN_min               135753 non-null float64\n",
            "BUN_max               135753 non-null float64\n",
            "PLATELET_max          133385 non-null float64\n",
            "WBC_min               134913 non-null float64\n",
            "WBC_max               134913 non-null float64\n",
            "gender                140738 non-null int64\n",
            "age                   140738 non-null float64\n",
            "day1verbal            140738 non-null int64\n",
            "day1motor             140738 non-null int64\n",
            "day1eyes              140738 non-null int64\n",
            "aids                  140738 non-null int64\n",
            "hepaticfailure        140738 non-null int64\n",
            "lymphoma              140738 non-null int64\n",
            "metastaticcancer      140738 non-null int64\n",
            "leukemia              140738 non-null int64\n",
            "diabetes              140738 non-null int64\n",
            "actualicumortality    140738 non-null object\n",
            "dtypes: float64(26), int64(10), object(1)\n",
            "memory usage: 40.8+ MB\n"
          ],
          "name": "stdout"
        }
      ]
    },
    {
      "cell_type": "code",
      "metadata": {
        "id": "1UQV7iWd2Znq",
        "colab_type": "code",
        "colab": {}
      },
      "source": [
        "X = df.iloc[:, :-1].values\n",
        "y = df.iloc[:, -1].values"
      ],
      "execution_count": 0,
      "outputs": []
    },
    {
      "cell_type": "code",
      "metadata": {
        "id": "_F60KL9KS5oX",
        "colab_type": "code",
        "colab": {}
      },
      "source": [
        "\n",
        "X =  df[[\t'BICARBONATE_min','day1motor','ALBUMIN_min','age',\t\t\n",
        "         'CREATININE_max','GLUCOSE_min'\t,'PLATELET_min',\t\n",
        "         'INR_max','WBC_min','BUN_max']]"
      ],
      "execution_count": 0,
      "outputs": []
    },
    {
      "cell_type": "code",
      "metadata": {
        "id": "m2iYf3UCFC_W",
        "colab_type": "code",
        "colab": {}
      },
      "source": [
        "\n",
        "X =  df[[\t'LACTATE_max','day1motor','ALBUMIN_min','age',\t\t\n",
        "         'CREATININE_max','GLUCOSE_min'\t,'PLATELET_min',\t\n",
        "         'PT_max','WBC_min','BUN_max']]"
      ],
      "execution_count": 0,
      "outputs": []
    },
    {
      "cell_type": "code",
      "metadata": {
        "id": "Jy_D3rgCmcz0",
        "colab_type": "code",
        "colab": {}
      },
      "source": [
        "y=df['actualicumortality']"
      ],
      "execution_count": 0,
      "outputs": []
    },
    {
      "cell_type": "code",
      "metadata": {
        "id": "wQkgMuvGM8Oo",
        "colab_type": "code",
        "colab": {}
      },
      "source": [
        "X=pd.DataFrame(X)\n",
        "y=pd.DataFrame(y)"
      ],
      "execution_count": 0,
      "outputs": []
    },
    {
      "cell_type": "code",
      "metadata": {
        "id": "sKDGqelw82fp",
        "colab_type": "code",
        "colab": {}
      },
      "source": [
        "import pandas as pd\n",
        "import numpy as np\n",
        "# explicitly require this experimental feature\n",
        "from sklearn.experimental import enable_iterative_imputer\n",
        "# now you can import normally from sklearn.impute\n",
        "from sklearn.impute import IterativeImputer\n",
        "from sklearn.ensemble import ExtraTreesRegressor\n",
        "from sklearn.linear_model import BayesianRidge"
      ],
      "execution_count": 0,
      "outputs": []
    },
    {
      "cell_type": "code",
      "metadata": {
        "id": "LsUO0m8mNHoJ",
        "colab_type": "code",
        "colab": {}
      },
      "source": [
        "imputer = IterativeImputer(BayesianRidge())\n",
        "X = pd.DataFrame(imputer.fit_transform(X))"
      ],
      "execution_count": 0,
      "outputs": []
    },
    {
      "cell_type": "code",
      "metadata": {
        "id": "6Gtai9oT-mlt",
        "colab_type": "code",
        "outputId": "e7b3f559-f587-4b41-a739-f300c5c75eb3",
        "colab": {
          "base_uri": "https://localhost:8080/",
          "height": 141
        }
      },
      "source": [
        "pip install imblearn"
      ],
      "execution_count": 17,
      "outputs": [
        {
          "output_type": "stream",
          "text": [
            "Requirement already satisfied: imblearn in /usr/local/lib/python3.6/dist-packages (0.0)\n",
            "Requirement already satisfied: imbalanced-learn in /usr/local/lib/python3.6/dist-packages (from imblearn) (0.4.3)\n",
            "Requirement already satisfied: scipy>=0.13.3 in /usr/local/lib/python3.6/dist-packages (from imbalanced-learn->imblearn) (1.4.1)\n",
            "Requirement already satisfied: numpy>=1.8.2 in /usr/local/lib/python3.6/dist-packages (from imbalanced-learn->imblearn) (1.18.1)\n",
            "Requirement already satisfied: scikit-learn>=0.20 in /usr/local/lib/python3.6/dist-packages (from imbalanced-learn->imblearn) (0.22.2.post1)\n",
            "Requirement already satisfied: joblib>=0.11 in /usr/local/lib/python3.6/dist-packages (from scikit-learn>=0.20->imbalanced-learn->imblearn) (0.14.1)\n"
          ],
          "name": "stdout"
        }
      ]
    },
    {
      "cell_type": "code",
      "metadata": {
        "id": "O3aQDdXi9qhA",
        "colab_type": "code",
        "colab": {}
      },
      "source": [
        "pipeline = Pipeline([('scale', StandardScaler()),(\"clf\",XGBClassifier(max_depth=3))])"
      ],
      "execution_count": 0,
      "outputs": []
    },
    {
      "cell_type": "code",
      "metadata": {
        "id": "Joj_Mo7l5bvj",
        "colab_type": "code",
        "colab": {}
      },
      "source": [
        "from sklearn.linear_model import LogisticRegression\n",
        "from sklearn.preprocessing import StandardScaler\n",
        "pipeline  = Pipeline([('scale', StandardScaler()), ('clf', LogisticRegression( ))])"
      ],
      "execution_count": 0,
      "outputs": []
    },
    {
      "cell_type": "code",
      "metadata": {
        "id": "AUpWENomF-Qr",
        "colab_type": "code",
        "colab": {}
      },
      "source": [
        "X_train, X_test, y_train, y_test = train_test_split(X, y, test_size = 0.2, random_state = 10)"
      ],
      "execution_count": 0,
      "outputs": []
    },
    {
      "cell_type": "code",
      "metadata": {
        "id": "U2NKsIiM-oT7",
        "colab_type": "code",
        "outputId": "a5dd91eb-ca70-4aba-bb25-c166ede6d163",
        "colab": {
          "base_uri": "https://localhost:8080/",
          "height": 107
        }
      },
      "source": [
        "from imblearn.over_sampling import SMOTE\n",
        "\n",
        "X_train, X_test, y_train, y_test = train_test_split(X, y, test_size = 0.5, random_state = 10)\n",
        "\n",
        "sm = SMOTE(random_state = 2)\n",
        "X_train, y_train = sm.fit_sample(X_train, y_train)\n"
      ],
      "execution_count": 20,
      "outputs": [
        {
          "output_type": "stream",
          "text": [
            "/usr/local/lib/python3.6/dist-packages/sklearn/utils/validation.py:760: DataConversionWarning: A column-vector y was passed when a 1d array was expected. Please change the shape of y to (n_samples, ), for example using ravel().\n",
            "  y = column_or_1d(y, warn=True)\n",
            "/usr/local/lib/python3.6/dist-packages/sklearn/utils/deprecation.py:87: FutureWarning: Function safe_indexing is deprecated; safe_indexing is deprecated in version 0.22 and will be removed in version 0.24.\n",
            "  warnings.warn(msg, category=FutureWarning)\n"
          ],
          "name": "stderr"
        }
      ]
    },
    {
      "cell_type": "code",
      "metadata": {
        "id": "zSRcqhAve5gZ",
        "colab_type": "code",
        "colab": {}
      },
      "source": [
        "dual=[True,False]\n",
        "max_iter=[100,110,120,130,140]\n",
        "C = [1.0,1.5,2.0,2.5]\n",
        "param_grid = dict(dual=dual,max_iter=max_iter,C=C)"
      ],
      "execution_count": 0,
      "outputs": []
    },
    {
      "cell_type": "code",
      "metadata": {
        "id": "IE9CNNpN7QzS",
        "colab_type": "code",
        "colab": {}
      },
      "source": [
        "pipe_lr = Pipeline([('scl', StandardScaler()),\n",
        "\t\t\t('clf', LogisticRegression(random_state=42))])\n",
        "\n",
        "pipe_lr_pca = Pipeline([('scl', StandardScaler()),\n",
        "\t\t\t('pca', PCA(n_components=2)),\n",
        "\t\t\t('clf', LogisticRegression(random_state=42))])\n",
        "\n",
        "param_range_fl = [1.0, 0.5, 0.1]\n",
        "\n",
        "grid_params_lr = [{'clf__penalty': ['l1', 'l2'],\n",
        "\t\t'clf__C': param_range_fl,\n",
        "\t\t'clf__solver': ['liblinear']}] \n",
        "\n",
        "\n"
      ],
      "execution_count": 0,
      "outputs": []
    },
    {
      "cell_type": "code",
      "metadata": {
        "id": "NzxN3nGQgo8R",
        "colab_type": "code",
        "colab": {}
      },
      "source": [
        "gs_lr = GridSearchCV(estimator=pipe_lr,\n",
        "\t\t\tparam_grid=grid_params_lr,\n",
        "\t\t\tscoring='roc_auc',\n",
        "\t\t\tcv=5) \n",
        "\t\t\t\n",
        "gs_lr_pca = GridSearchCV(estimator=pipe_lr_pca,\n",
        "\t\t\tparam_grid=grid_params_lr,\n",
        "\t\t\tscoring='roc_auc',\n",
        "\t\t\tcv=5)"
      ],
      "execution_count": 0,
      "outputs": []
    },
    {
      "cell_type": "code",
      "metadata": {
        "id": "jr8zfDGng1Ry",
        "colab_type": "code",
        "outputId": "f8effc64-2675-41b4-a9e2-85e39edd4e7a",
        "colab": {
          "base_uri": "https://localhost:8080/",
          "height": 520
        }
      },
      "source": [
        "gs_lr.fit(X_train, y_train)"
      ],
      "execution_count": 24,
      "outputs": [
        {
          "output_type": "execute_result",
          "data": {
            "text/plain": [
              "GridSearchCV(cv=5, error_score=nan,\n",
              "             estimator=Pipeline(memory=None,\n",
              "                                steps=[('scl',\n",
              "                                        StandardScaler(copy=True,\n",
              "                                                       with_mean=True,\n",
              "                                                       with_std=True)),\n",
              "                                       ('clf',\n",
              "                                        LogisticRegression(C=1.0,\n",
              "                                                           class_weight=None,\n",
              "                                                           dual=False,\n",
              "                                                           fit_intercept=True,\n",
              "                                                           intercept_scaling=1,\n",
              "                                                           l1_ratio=None,\n",
              "                                                           max_iter=100,\n",
              "                                                           multi_class='auto',\n",
              "                                                           n_jobs=None,\n",
              "                                                           penalty='l2',\n",
              "                                                           random_state=42,\n",
              "                                                           solver='lbfgs',\n",
              "                                                           tol=0.0001,\n",
              "                                                           verbose=0,\n",
              "                                                           warm_start=False))],\n",
              "                                verbose=False),\n",
              "             iid='deprecated', n_jobs=None,\n",
              "             param_grid=[{'clf__C': [1.0, 0.5, 0.1],\n",
              "                          'clf__penalty': ['l1', 'l2'],\n",
              "                          'clf__solver': ['liblinear']}],\n",
              "             pre_dispatch='2*n_jobs', refit=True, return_train_score=False,\n",
              "             scoring='roc_auc', verbose=0)"
            ]
          },
          "metadata": {
            "tags": []
          },
          "execution_count": 24
        }
      ]
    },
    {
      "cell_type": "code",
      "metadata": {
        "id": "2brSPgU8fJ-p",
        "colab_type": "code",
        "outputId": "f9e4bfce-0805-4f6a-bee2-8bc8d489b6ef",
        "colab": {
          "base_uri": "https://localhost:8080/",
          "height": 243
        }
      },
      "source": [
        "print(gs_lr.best_score_)#nosmote\n",
        "print(gs_lr.best_estimator_)#no smote"
      ],
      "execution_count": 0,
      "outputs": [
        {
          "output_type": "stream",
          "text": [
            "0.852276924309634\n",
            "Pipeline(memory=None,\n",
            "         steps=[('scl',\n",
            "                 StandardScaler(copy=True, with_mean=True, with_std=True)),\n",
            "                ('clf',\n",
            "                 LogisticRegression(C=0.1, class_weight=None, dual=False,\n",
            "                                    fit_intercept=True, intercept_scaling=1,\n",
            "                                    l1_ratio=None, max_iter=100,\n",
            "                                    multi_class='auto', n_jobs=None,\n",
            "                                    penalty='l1', random_state=42,\n",
            "                                    solver='liblinear', tol=0.0001, verbose=0,\n",
            "                                    warm_start=False))],\n",
            "         verbose=False)\n"
          ],
          "name": "stdout"
        }
      ]
    },
    {
      "cell_type": "code",
      "metadata": {
        "id": "sO8b_5pHUnhM",
        "colab_type": "code",
        "outputId": "e5f49a71-39a2-4a8a-a310-c435e11c1413",
        "colab": {
          "base_uri": "https://localhost:8080/",
          "height": 243
        }
      },
      "source": [
        "print(gs_lr.best_score_)#smote\n",
        "print(gs_lr.best_estimator_)#smote"
      ],
      "execution_count": 25,
      "outputs": [
        {
          "output_type": "stream",
          "text": [
            "0.8709996388663319\n",
            "Pipeline(memory=None,\n",
            "         steps=[('scl',\n",
            "                 StandardScaler(copy=True, with_mean=True, with_std=True)),\n",
            "                ('clf',\n",
            "                 LogisticRegression(C=0.1, class_weight=None, dual=False,\n",
            "                                    fit_intercept=True, intercept_scaling=1,\n",
            "                                    l1_ratio=None, max_iter=100,\n",
            "                                    multi_class='auto', n_jobs=None,\n",
            "                                    penalty='l1', random_state=42,\n",
            "                                    solver='liblinear', tol=0.0001, verbose=0,\n",
            "                                    warm_start=False))],\n",
            "         verbose=False)\n"
          ],
          "name": "stdout"
        }
      ]
    },
    {
      "cell_type": "code",
      "metadata": {
        "id": "B695dhib0weg",
        "colab_type": "code",
        "outputId": "66c0ad8f-00a8-4f42-f179-2a4ab9bcee18",
        "colab": {
          "base_uri": "https://localhost:8080/",
          "height": 1000
        }
      },
      "source": [
        "gbm_param_grid = {\n",
        "    'clf__learning_rate': np.arange(.05, 1, .05),\n",
        "    'clf__max_depth': np.arange(3,10, 1),\n",
        "    'clf__n_estimators': np.arange(50, 200, 50)\n",
        "}\n",
        "\n",
        "# Perform RandomizedSearchCV\n",
        "my_model = RandomizedSearchCV(estimator=pipeline,\n",
        "                                        param_distributions=gbm_param_grid,\n",
        "                                        n_iter=2, scoring='roc_auc', cv=5, verbose=1)\n",
        "\n",
        "# Fit the estimator\n",
        "my_model.fit(X_test,y_test)"
      ],
      "execution_count": 28,
      "outputs": [
        {
          "output_type": "stream",
          "text": [
            "Fitting 5 folds for each of 2 candidates, totalling 10 fits\n"
          ],
          "name": "stdout"
        },
        {
          "output_type": "stream",
          "text": [
            "[Parallel(n_jobs=1)]: Using backend SequentialBackend with 1 concurrent workers.\n",
            "/usr/local/lib/python3.6/dist-packages/sklearn/preprocessing/_label.py:235: DataConversionWarning: A column-vector y was passed when a 1d array was expected. Please change the shape of y to (n_samples, ), for example using ravel().\n",
            "  y = column_or_1d(y, warn=True)\n",
            "/usr/local/lib/python3.6/dist-packages/sklearn/preprocessing/_label.py:268: DataConversionWarning: A column-vector y was passed when a 1d array was expected. Please change the shape of y to (n_samples, ), for example using ravel().\n",
            "  y = column_or_1d(y, warn=True)\n",
            "/usr/local/lib/python3.6/dist-packages/sklearn/preprocessing/_label.py:235: DataConversionWarning: A column-vector y was passed when a 1d array was expected. Please change the shape of y to (n_samples, ), for example using ravel().\n",
            "  y = column_or_1d(y, warn=True)\n",
            "/usr/local/lib/python3.6/dist-packages/sklearn/preprocessing/_label.py:268: DataConversionWarning: A column-vector y was passed when a 1d array was expected. Please change the shape of y to (n_samples, ), for example using ravel().\n",
            "  y = column_or_1d(y, warn=True)\n",
            "/usr/local/lib/python3.6/dist-packages/sklearn/preprocessing/_label.py:235: DataConversionWarning: A column-vector y was passed when a 1d array was expected. Please change the shape of y to (n_samples, ), for example using ravel().\n",
            "  y = column_or_1d(y, warn=True)\n",
            "/usr/local/lib/python3.6/dist-packages/sklearn/preprocessing/_label.py:268: DataConversionWarning: A column-vector y was passed when a 1d array was expected. Please change the shape of y to (n_samples, ), for example using ravel().\n",
            "  y = column_or_1d(y, warn=True)\n",
            "/usr/local/lib/python3.6/dist-packages/sklearn/preprocessing/_label.py:235: DataConversionWarning: A column-vector y was passed when a 1d array was expected. Please change the shape of y to (n_samples, ), for example using ravel().\n",
            "  y = column_or_1d(y, warn=True)\n",
            "/usr/local/lib/python3.6/dist-packages/sklearn/preprocessing/_label.py:268: DataConversionWarning: A column-vector y was passed when a 1d array was expected. Please change the shape of y to (n_samples, ), for example using ravel().\n",
            "  y = column_or_1d(y, warn=True)\n",
            "/usr/local/lib/python3.6/dist-packages/sklearn/preprocessing/_label.py:235: DataConversionWarning: A column-vector y was passed when a 1d array was expected. Please change the shape of y to (n_samples, ), for example using ravel().\n",
            "  y = column_or_1d(y, warn=True)\n",
            "/usr/local/lib/python3.6/dist-packages/sklearn/preprocessing/_label.py:268: DataConversionWarning: A column-vector y was passed when a 1d array was expected. Please change the shape of y to (n_samples, ), for example using ravel().\n",
            "  y = column_or_1d(y, warn=True)\n",
            "/usr/local/lib/python3.6/dist-packages/sklearn/preprocessing/_label.py:235: DataConversionWarning: A column-vector y was passed when a 1d array was expected. Please change the shape of y to (n_samples, ), for example using ravel().\n",
            "  y = column_or_1d(y, warn=True)\n",
            "/usr/local/lib/python3.6/dist-packages/sklearn/preprocessing/_label.py:268: DataConversionWarning: A column-vector y was passed when a 1d array was expected. Please change the shape of y to (n_samples, ), for example using ravel().\n",
            "  y = column_or_1d(y, warn=True)\n",
            "/usr/local/lib/python3.6/dist-packages/sklearn/preprocessing/_label.py:235: DataConversionWarning: A column-vector y was passed when a 1d array was expected. Please change the shape of y to (n_samples, ), for example using ravel().\n",
            "  y = column_or_1d(y, warn=True)\n",
            "/usr/local/lib/python3.6/dist-packages/sklearn/preprocessing/_label.py:268: DataConversionWarning: A column-vector y was passed when a 1d array was expected. Please change the shape of y to (n_samples, ), for example using ravel().\n",
            "  y = column_or_1d(y, warn=True)\n",
            "/usr/local/lib/python3.6/dist-packages/sklearn/preprocessing/_label.py:235: DataConversionWarning: A column-vector y was passed when a 1d array was expected. Please change the shape of y to (n_samples, ), for example using ravel().\n",
            "  y = column_or_1d(y, warn=True)\n",
            "/usr/local/lib/python3.6/dist-packages/sklearn/preprocessing/_label.py:268: DataConversionWarning: A column-vector y was passed when a 1d array was expected. Please change the shape of y to (n_samples, ), for example using ravel().\n",
            "  y = column_or_1d(y, warn=True)\n",
            "/usr/local/lib/python3.6/dist-packages/sklearn/preprocessing/_label.py:235: DataConversionWarning: A column-vector y was passed when a 1d array was expected. Please change the shape of y to (n_samples, ), for example using ravel().\n",
            "  y = column_or_1d(y, warn=True)\n",
            "/usr/local/lib/python3.6/dist-packages/sklearn/preprocessing/_label.py:268: DataConversionWarning: A column-vector y was passed when a 1d array was expected. Please change the shape of y to (n_samples, ), for example using ravel().\n",
            "  y = column_or_1d(y, warn=True)\n",
            "/usr/local/lib/python3.6/dist-packages/sklearn/preprocessing/_label.py:235: DataConversionWarning: A column-vector y was passed when a 1d array was expected. Please change the shape of y to (n_samples, ), for example using ravel().\n",
            "  y = column_or_1d(y, warn=True)\n",
            "/usr/local/lib/python3.6/dist-packages/sklearn/preprocessing/_label.py:268: DataConversionWarning: A column-vector y was passed when a 1d array was expected. Please change the shape of y to (n_samples, ), for example using ravel().\n",
            "  y = column_or_1d(y, warn=True)\n",
            "[Parallel(n_jobs=1)]: Done  10 out of  10 | elapsed:  1.0min finished\n",
            "/usr/local/lib/python3.6/dist-packages/sklearn/preprocessing/_label.py:235: DataConversionWarning: A column-vector y was passed when a 1d array was expected. Please change the shape of y to (n_samples, ), for example using ravel().\n",
            "  y = column_or_1d(y, warn=True)\n",
            "/usr/local/lib/python3.6/dist-packages/sklearn/preprocessing/_label.py:268: DataConversionWarning: A column-vector y was passed when a 1d array was expected. Please change the shape of y to (n_samples, ), for example using ravel().\n",
            "  y = column_or_1d(y, warn=True)\n"
          ],
          "name": "stderr"
        },
        {
          "output_type": "execute_result",
          "data": {
            "text/plain": [
              "RandomizedSearchCV(cv=5, error_score=nan,\n",
              "                   estimator=Pipeline(memory=None,\n",
              "                                      steps=[('scale',\n",
              "                                              StandardScaler(copy=True,\n",
              "                                                             with_mean=True,\n",
              "                                                             with_std=True)),\n",
              "                                             ('clf',\n",
              "                                              XGBClassifier(base_score=0.5,\n",
              "                                                            booster='gbtree',\n",
              "                                                            colsample_bylevel=1,\n",
              "                                                            colsample_bynode=1,\n",
              "                                                            colsample_bytree=1,\n",
              "                                                            gamma=0,\n",
              "                                                            learning_rate=0.1,\n",
              "                                                            max_delta_step=0,\n",
              "                                                            max_depth=3,\n",
              "                                                            min_child_weight=1,\n",
              "                                                            missing=None,\n",
              "                                                            n_estimat...\n",
              "                   iid='deprecated', n_iter=2, n_jobs=None,\n",
              "                   param_distributions={'clf__learning_rate': array([0.05, 0.1 , 0.15, 0.2 , 0.25, 0.3 , 0.35, 0.4 , 0.45, 0.5 , 0.55,\n",
              "       0.6 , 0.65, 0.7 , 0.75, 0.8 , 0.85, 0.9 , 0.95]),\n",
              "                                        'clf__max_depth': array([3, 4, 5, 6, 7, 8, 9]),\n",
              "                                        'clf__n_estimators': array([ 50, 100, 150])},\n",
              "                   pre_dispatch='2*n_jobs', random_state=None, refit=True,\n",
              "                   return_train_score=False, scoring='roc_auc', verbose=1)"
            ]
          },
          "metadata": {
            "tags": []
          },
          "execution_count": 28
        }
      ]
    },
    {
      "cell_type": "code",
      "metadata": {
        "id": "Kw9YHHyP4dbm",
        "colab_type": "code",
        "colab": {}
      },
      "source": [
        "from sklearn.model_selection import cross_val_score"
      ],
      "execution_count": 0,
      "outputs": []
    },
    {
      "cell_type": "code",
      "metadata": {
        "id": "uIyXaBR-476F",
        "colab_type": "code",
        "colab": {}
      },
      "source": [
        "from sklearn.metrics import roc_auc_score"
      ],
      "execution_count": 0,
      "outputs": []
    },
    {
      "cell_type": "code",
      "metadata": {
        "id": "JkvjY2ehG5MC",
        "colab_type": "code",
        "outputId": "6a705d60-ddf8-43b9-ad1d-670d2ed21201",
        "colab": {
          "base_uri": "https://localhost:8080/",
          "height": 312
        }
      },
      "source": [
        "print(my_model.best_score_)#.5smotetrain\n",
        "print(my_model.best_estimator_)#.5smotetrain"
      ],
      "execution_count": 30,
      "outputs": [
        {
          "output_type": "stream",
          "text": [
            "0.8062267374815664\n",
            "Pipeline(memory=None,\n",
            "         steps=[('scale',\n",
            "                 StandardScaler(copy=True, with_mean=True, with_std=True)),\n",
            "                ('clf',\n",
            "                 XGBClassifier(base_score=0.5, booster='gbtree',\n",
            "                               colsample_bylevel=1, colsample_bynode=1,\n",
            "                               colsample_bytree=1, gamma=0,\n",
            "                               learning_rate=0.7500000000000001,\n",
            "                               max_delta_step=0, max_depth=6,\n",
            "                               min_child_weight=1, missing=None,\n",
            "                               n_estimators=100, n_jobs=1, nthread=None,\n",
            "                               objective='binary:logistic', random_state=0,\n",
            "                               reg_alpha=0, reg_lambda=1, scale_pos_weight=1,\n",
            "                               seed=None, silent=None, subsample=1,\n",
            "                               verbosity=1))],\n",
            "         verbose=False)\n"
          ],
          "name": "stdout"
        }
      ]
    },
    {
      "cell_type": "code",
      "metadata": {
        "id": "lrp_QKqC9zlK",
        "colab_type": "code",
        "outputId": "db11eebe-4629-4da7-fc5b-d51abdad3c7d",
        "colab": {
          "base_uri": "https://localhost:8080/",
          "height": 131
        }
      },
      "source": [
        "print(randomized_roc_auc.best_score_) #No smote\n",
        "print(randomized_roc_auc.best_estimator_) No Smote"
      ],
      "execution_count": 0,
      "outputs": [
        {
          "output_type": "error",
          "ename": "SyntaxError",
          "evalue": "ignored",
          "traceback": [
            "\u001b[0;36m  File \u001b[0;32m\"<ipython-input-104-dd2ab56b7b62>\"\u001b[0;36m, line \u001b[0;32m2\u001b[0m\n\u001b[0;31m    print(randomized_roc_auc.best_estimator_) No Smote\u001b[0m\n\u001b[0m                                               ^\u001b[0m\n\u001b[0;31mSyntaxError\u001b[0m\u001b[0;31m:\u001b[0m invalid syntax\n"
          ]
        }
      ]
    },
    {
      "cell_type": "code",
      "metadata": {
        "id": "FGZ5PT0z6yzw",
        "colab_type": "code",
        "outputId": "863d14eb-c140-49ca-866e-29d87319f20d",
        "colab": {
          "base_uri": "https://localhost:8080/",
          "height": 69
        }
      },
      "source": [
        "pipe = Pipeline([('classifier' , RandomForestClassifier())])\n",
        "# pipe = Pipeline([('classifier', RandomForestClassifier())])\n",
        "\n",
        "# Create param grid.\n",
        "\n",
        "param_grid = [\n",
        "    {'classifier' : [LogisticRegression()],\n",
        "     'classifier__penalty' : ['l1', 'l2'],\n",
        "    'classifier__C' : np.logspace(-4, 4, 20),\n",
        "    'classifier__solver' : ['liblinear']},\n",
        "    {'classifier' : [RandomForestClassifier()],\n",
        "    'classifier__n_estimators' : list(range(10,101,10)),\n",
        "    'classifier__max_features' : list(range(6,32,5))}\n",
        "]\n",
        "\n",
        "# Create grid search object\n",
        "\n",
        "clf = GridSearchCV(pipe, param_grid = param_grid, cv = 5, verbose=True, n_jobs=-1)\n",
        "\n",
        "# Fit on data\n",
        "\n",
        "best_clf = clf.fit(X_train, y_train)"
      ],
      "execution_count": 0,
      "outputs": [
        {
          "output_type": "stream",
          "text": [
            "Fitting 5 folds for each of 100 candidates, totalling 500 fits\n"
          ],
          "name": "stdout"
        },
        {
          "output_type": "stream",
          "text": [
            "[Parallel(n_jobs=-1)]: Using backend LokyBackend with 2 concurrent workers.\n",
            "[Parallel(n_jobs=-1)]: Done  46 tasks      | elapsed: 81.7min\n"
          ],
          "name": "stderr"
        }
      ]
    },
    {
      "cell_type": "code",
      "metadata": {
        "id": "fcVvIqE_BAAa",
        "colab_type": "code",
        "colab": {}
      },
      "source": [
        "print(clf.best_score_)\n",
        "print(clf.best_estimator_)"
      ],
      "execution_count": 0,
      "outputs": []
    },
    {
      "cell_type": "code",
      "metadata": {
        "id": "U_jvnegr5rLV",
        "colab_type": "code",
        "outputId": "39748b41-d06a-475d-bd43-0cd37bafd251",
        "colab": {
          "base_uri": "https://localhost:8080/",
          "height": 225
        }
      },
      "source": [
        "pipe_lr.fit(X_train,y_train)"
      ],
      "execution_count": 0,
      "outputs": [
        {
          "output_type": "execute_result",
          "data": {
            "text/plain": [
              "Pipeline(memory=None,\n",
              "         steps=[('scale',\n",
              "                 StandardScaler(copy=True, with_mean=True, with_std=True)),\n",
              "                ('clf',\n",
              "                 LogisticRegression(C=0.1, class_weight='balanced', dual=False,\n",
              "                                    fit_intercept=True, intercept_scaling=1,\n",
              "                                    l1_ratio=None, max_iter=1000,\n",
              "                                    multi_class='auto', n_jobs=None,\n",
              "                                    penalty='l2', random_state=None,\n",
              "                                    solver='lbfgs', tol=0.0001, verbose=0,\n",
              "                                    warm_start=False))],\n",
              "         verbose=False)"
            ]
          },
          "metadata": {
            "tags": []
          },
          "execution_count": 17
        }
      ]
    },
    {
      "cell_type": "code",
      "metadata": {
        "id": "fGVzNCC757Ec",
        "colab_type": "code",
        "colab": {}
      },
      "source": [
        "y_pred= pipe_lr.predict(X_test)"
      ],
      "execution_count": 0,
      "outputs": []
    },
    {
      "cell_type": "code",
      "metadata": {
        "id": "-QTaXUvfcX5Y",
        "colab_type": "code",
        "colab": {}
      },
      "source": [
        ""
      ],
      "execution_count": 0,
      "outputs": []
    },
    {
      "cell_type": "code",
      "metadata": {
        "id": "g0fTGFVjcuO9",
        "colab_type": "code",
        "colab": {}
      },
      "source": [
        "y_train=pd.DataFrame(y_train)"
      ],
      "execution_count": 0,
      "outputs": []
    },
    {
      "cell_type": "code",
      "metadata": {
        "id": "3h66Bkl0bKM9",
        "colab_type": "code",
        "outputId": "52a1ffe2-e914-4262-c3c9-58b9c9a5e9ba",
        "colab": {
          "base_uri": "https://localhost:8080/",
          "height": 295
        }
      },
      "source": [
        "estimator = XGBClassifier()\n",
        "selector = RFECV(estimator, step=1, min_features_to_select=1, cv=10, scoring='roc_auc')\n",
        "\n",
        "#fit the model, get a rank of the variables, and a matrix of the selected X variables\n",
        "selector = selector.fit(X_train, y_train.values.flatten())\n",
        "\n",
        "\n",
        "#PLot # of features selected vs. Model Score\n",
        "plt.figure()\n",
        "plt.title('XGB CV score vs No of Features')\n",
        "plt.xlabel(\"Number of features selected\")\n",
        "plt.ylabel('scoring= roc_auc')\n",
        "plt.plot(range(1, len(selector.grid_scores_) + 1), selector.grid_scores_)\n",
        "plt.show()\n",
        "\n",
        "#get rank of X model features\n",
        "rank = selector.ranking_\n",
        "#Subset features to those selected by recursive feature elimination\n",
        "#X_train_scaled = X_train_scaled[:,selector.support_ ] \n",
        "\n",
        "y_pred = selector.predict(X_train)"
      ],
      "execution_count": 0,
      "outputs": [
        {
          "output_type": "display_data",
          "data": {
            "image/png": "[encoded data removed]",
            "text/plain": [
              "<Figure size 432x288 with 1 Axes>"
            ]
          },
          "metadata": {
            "tags": []
          }
        }
      ]
    }
  ]
}